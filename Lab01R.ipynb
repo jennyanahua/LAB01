{
 "cells": [
  {
   "cell_type": "markdown",
   "metadata": {},
   "source": [
    "# Laboratorio N° 01: Analisis Exploratorio de Datos con R\n"
   ]
  },
  {
   "cell_type": "code",
   "execution_count": null,
   "metadata": {},
   "outputs": [],
   "source": [
    "NOMBRE: JENNY ANAHUA HUAYHUA                    CURSO:INTELIGENCIA DE NEGOCIOS"
   ]
  },
  {
   "cell_type": "markdown",
   "metadata": {},
   "source": [
    "### Objetivos\n",
    "\n",
    "* Aplicar los conocimeintos asimilados sobre Analisis Exploratorio de Datos utilizando el lenguaje R\n"
   ]
  },
  {
   "cell_type": "markdown",
   "metadata": {},
   "source": [
    "1. Carga el conjunto de datos"
   ]
  },
  {
   "cell_type": "code",
   "execution_count": 15,
   "metadata": {},
   "outputs": [],
   "source": [
    "telecom <- read.csv(\"Telecomunicaciones.csv\", sep = \";\", header = TRUE, fileEncoding=\"latin1\")"
   ]
  },
  {
   "cell_type": "markdown",
   "metadata": {},
   "source": [
    "2. Revisar los seis primeros datos por defecto "
   ]
  },
  {
   "cell_type": "code",
   "execution_count": 16,
   "metadata": {},
   "outputs": [
    {
     "data": {
      "text/html": [
       "<table>\n",
       "<thead><tr><th scope=col>IdCliente</th><th scope=col>Género</th><th scope=col>Edad</th><th scope=col>Llamadas</th><th scope=col>Tiempo.enero</th><th scope=col>Tiempo.febrero</th><th scope=col>Monto</th><th scope=col>Espera</th><th scope=col>Opinión</th><th scope=col>Empresa</th></tr></thead>\n",
       "<tbody>\n",
       "\t<tr><td>P50417214</td><td>Femenino </td><td>26       </td><td>4        </td><td>27.0     </td><td>26.1     </td><td>89.7     </td><td>0.8      </td><td>Excelente</td><td>Entell   </td></tr>\n",
       "\t<tr><td>P50417215</td><td>Masculino</td><td>33       </td><td>2        </td><td>30.1     </td><td>20.5     </td><td>88.8     </td><td>0.4      </td><td>Muy Bueno</td><td>Entell   </td></tr>\n",
       "\t<tr><td>P50417216</td><td>Masculino</td><td>21       </td><td>8        </td><td>26.0     </td><td>34.4     </td><td>85.4     </td><td>3.5      </td><td>Bueno    </td><td>Entell   </td></tr>\n",
       "\t<tr><td>P50417217</td><td>Femenino </td><td>23       </td><td>8        </td><td>34.1     </td><td>36.1     </td><td>89.0     </td><td>4.7      </td><td>Pésimo   </td><td>Entell   </td></tr>\n",
       "\t<tr><td>P50417218</td><td>Masculino</td><td>34       </td><td>1        </td><td>30.1     </td><td>28.9     </td><td>77.1     </td><td>2.2      </td><td>Bueno    </td><td>Entell   </td></tr>\n",
       "\t<tr><td>P50417219</td><td>Femenino </td><td>29       </td><td>6        </td><td>30.7     </td><td>20.9     </td><td>97.8     </td><td>5.1      </td><td>Pésimo   </td><td>Entell   </td></tr>\n",
       "</tbody>\n",
       "</table>\n"
      ],
      "text/latex": [
       "\\begin{tabular}{r|llllllllll}\n",
       " IdCliente & Género & Edad & Llamadas & Tiempo.enero & Tiempo.febrero & Monto & Espera & Opinión & Empresa\\\\\n",
       "\\hline\n",
       "\t P50417214 & Femenino  & 26        & 4         & 27.0      & 26.1      & 89.7      & 0.8       & Excelente & Entell   \\\\\n",
       "\t P50417215 & Masculino & 33        & 2         & 30.1      & 20.5      & 88.8      & 0.4       & Muy Bueno & Entell   \\\\\n",
       "\t P50417216 & Masculino & 21        & 8         & 26.0      & 34.4      & 85.4      & 3.5       & Bueno     & Entell   \\\\\n",
       "\t P50417217 & Femenino  & 23        & 8         & 34.1      & 36.1      & 89.0      & 4.7       & Pésimo    & Entell   \\\\\n",
       "\t P50417218 & Masculino & 34        & 1         & 30.1      & 28.9      & 77.1      & 2.2       & Bueno     & Entell   \\\\\n",
       "\t P50417219 & Femenino  & 29        & 6         & 30.7      & 20.9      & 97.8      & 5.1       & Pésimo    & Entell   \\\\\n",
       "\\end{tabular}\n"
      ],
      "text/markdown": [
       "\n",
       "| IdCliente | Género | Edad | Llamadas | Tiempo.enero | Tiempo.febrero | Monto | Espera | Opinión | Empresa |\n",
       "|---|---|---|---|---|---|---|---|---|---|\n",
       "| P50417214 | Femenino  | 26        | 4         | 27.0      | 26.1      | 89.7      | 0.8       | Excelente | Entell    |\n",
       "| P50417215 | Masculino | 33        | 2         | 30.1      | 20.5      | 88.8      | 0.4       | Muy Bueno | Entell    |\n",
       "| P50417216 | Masculino | 21        | 8         | 26.0      | 34.4      | 85.4      | 3.5       | Bueno     | Entell    |\n",
       "| P50417217 | Femenino  | 23        | 8         | 34.1      | 36.1      | 89.0      | 4.7       | Pésimo    | Entell    |\n",
       "| P50417218 | Masculino | 34        | 1         | 30.1      | 28.9      | 77.1      | 2.2       | Bueno     | Entell    |\n",
       "| P50417219 | Femenino  | 29        | 6         | 30.7      | 20.9      | 97.8      | 5.1       | Pésimo    | Entell    |\n",
       "\n"
      ],
      "text/plain": [
       "  IdCliente Género    Edad Llamadas Tiempo.enero Tiempo.febrero Monto Espera\n",
       "1 P50417214 Femenino  26   4        27.0         26.1           89.7  0.8   \n",
       "2 P50417215 Masculino 33   2        30.1         20.5           88.8  0.4   \n",
       "3 P50417216 Masculino 21   8        26.0         34.4           85.4  3.5   \n",
       "4 P50417217 Femenino  23   8        34.1         36.1           89.0  4.7   \n",
       "5 P50417218 Masculino 34   1        30.1         28.9           77.1  2.2   \n",
       "6 P50417219 Femenino  29   6        30.7         20.9           97.8  5.1   \n",
       "  Opinión   Empresa\n",
       "1 Excelente Entell \n",
       "2 Muy Bueno Entell \n",
       "3 Bueno     Entell \n",
       "4 Pésimo    Entell \n",
       "5 Bueno     Entell \n",
       "6 Pésimo    Entell "
      ]
     },
     "metadata": {},
     "output_type": "display_data"
    }
   ],
   "source": [
    "head(telecom)"
   ]
  },
  {
   "cell_type": "markdown",
   "metadata": {},
   "source": [
    "3. Verificar la estructura de los datos"
   ]
  },
  {
   "cell_type": "code",
   "execution_count": 17,
   "metadata": {},
   "outputs": [
    {
     "name": "stdout",
     "output_type": "stream",
     "text": [
      "'data.frame':\t120 obs. of  10 variables:\n",
      " $ IdCliente     : Factor w/ 120 levels \"A80117234\",\"A80117235\",..: 71 72 73 74 75 76 77 78 79 80 ...\n",
      " $ Género        : Factor w/ 2 levels \"Femenino\",\"Masculino\": 1 2 2 1 2 1 2 1 1 1 ...\n",
      " $ Edad          : int  26 33 21 23 34 29 21 40 25 38 ...\n",
      " $ Llamadas      : int  4 2 8 8 1 6 5 5 6 5 ...\n",
      " $ Tiempo.enero  : num  27 30.1 26 34.1 30.1 30.7 26.5 28.3 29.7 32.5 ...\n",
      " $ Tiempo.febrero: num  26.1 20.5 34.4 36.1 28.9 20.9 32 29.8 31.1 27.6 ...\n",
      " $ Monto         : num  89.7 88.8 85.4 89 77.1 97.8 84 84.2 91.7 74.1 ...\n",
      " $ Espera        : num  0.8 0.4 3.5 4.7 2.2 5.1 2.8 5.8 4.2 0.8 ...\n",
      " $ Opinión       : Factor w/ 5 levels \"Bueno\",\"Excelente\",..: 2 3 1 4 1 4 5 3 2 5 ...\n",
      " $ Empresa       : Factor w/ 4 levels \"Bitele\",\"Claros\",..: 3 3 3 3 3 3 3 3 3 3 ...\n"
     ]
    }
   ],
   "source": [
    "str(telecom)"
   ]
  },
  {
   "cell_type": "markdown",
   "metadata": {},
   "source": [
    "4. Revisar un resumen de los datos"
   ]
  },
  {
   "cell_type": "code",
   "execution_count": 18,
   "metadata": {},
   "outputs": [
    {
     "data": {
      "text/plain": [
       "     IdCliente         Género        Edad          Llamadas     \n",
       " A80117234:  1   Femenino :54   Min.   :20.00   Min.   : 0.000  \n",
       " A80117235:  1   Masculino:66   1st Qu.:26.00   1st Qu.: 3.000  \n",
       " A80117236:  1                  Median :31.00   Median : 5.000  \n",
       " A80117237:  1                  Mean   :30.34   Mean   : 5.017  \n",
       " A80117238:  1                  3rd Qu.:35.00   3rd Qu.: 7.000  \n",
       " A80117239:  1                  Max.   :40.00   Max.   :13.000  \n",
       " (Other)  :114                                                  \n",
       "  Tiempo.enero   Tiempo.febrero      Monto            Espera      \n",
       " Min.   :17.50   Min.   :17.50   Min.   : 74.10   Min.   : 0.200  \n",
       " 1st Qu.:31.70   1st Qu.:31.95   1st Qu.: 84.17   1st Qu.: 1.700  \n",
       " Median :37.85   Median :37.60   Median : 90.70   Median : 3.650  \n",
       " Mean   :38.24   Mean   :37.48   Mean   : 92.68   Mean   : 6.148  \n",
       " 3rd Qu.:43.62   3rd Qu.:42.25   3rd Qu.: 99.53   3rd Qu.: 7.000  \n",
       " Max.   :62.20   Max.   :59.60   Max.   :119.10   Max.   :36.000  \n",
       "                                                                  \n",
       "      Opinión     Empresa  \n",
       " Bueno    :23   Bitele:30  \n",
       " Excelente:19   Claros:30  \n",
       " Muy Bueno:19   Entell:20  \n",
       " Pésimo   :44   Movist:40  \n",
       " Regular  :15              \n",
       "                           \n",
       "                           "
      ]
     },
     "metadata": {},
     "output_type": "display_data"
    }
   ],
   "source": [
    "summary(telecom)"
   ]
  },
  {
   "cell_type": "markdown",
   "metadata": {},
   "source": [
    "5. Revisar un resumen de los datos en columnas"
   ]
  },
  {
   "cell_type": "code",
   "execution_count": 3,
   "metadata": {},
   "outputs": [
    {
     "name": "stderr",
     "output_type": "stream",
     "text": [
      "also installing the dependencies 'rlang', 'scales', 'ggplot2'\n",
      "\n"
     ]
    },
    {
     "name": "stdout",
     "output_type": "stream",
     "text": [
      "\n",
      "  There are binary versions available but the source versions are later:\n",
      "        binary source needs_compilation\n",
      "rlang   0.4.11  1.0.3              TRUE\n",
      "scales   1.1.1  1.2.0             FALSE\n",
      "ggplot2  3.3.3  3.3.6             FALSE\n",
      "\n",
      "  Binaries will be installed\n",
      "package 'rlang' successfully unpacked and MD5 sums checked\n",
      "package 'mlr' successfully unpacked and MD5 sums checked\n",
      "\n",
      "The downloaded binary packages are in\n",
      "\tC:\\Users\\51956\\AppData\\Local\\Temp\\RtmpADifXz\\downloaded_packages\n"
     ]
    },
    {
     "name": "stderr",
     "output_type": "stream",
     "text": [
      "installing the source packages 'scales', 'ggplot2'\n",
      "\n",
      "Warning message in install.packages(\"mlr\", repo = \"http://cran.fiocruz.br/\"):\n",
      "\"installation of package 'scales' had non-zero exit status\"Warning message in install.packages(\"mlr\", repo = \"http://cran.fiocruz.br/\"):\n",
      "\"installation of package 'ggplot2' had non-zero exit status\""
     ]
    }
   ],
   "source": [
    "install.packages('mlr',repo='http://cran.fiocruz.br/')"
   ]
  },
  {
   "cell_type": "code",
   "execution_count": 4,
   "metadata": {},
   "outputs": [
    {
     "name": "stderr",
     "output_type": "stream",
     "text": [
      "Loading required package: ParamHelpers\n"
     ]
    },
    {
     "ename": "ERROR",
     "evalue": "Error: package or namespace load failed for 'mlr' in loadNamespace(i, c(lib.loc, .libPaths()), versionCheck = vI[[i]]):\n there is no package called 'ggplot2'\n",
     "output_type": "error",
     "traceback": [
      "Error: package or namespace load failed for 'mlr' in loadNamespace(i, c(lib.loc, .libPaths()), versionCheck = vI[[i]]):\n there is no package called 'ggplot2'\nTraceback:\n",
      "1. library(mlr)",
      "2. tryCatch({\n .     attr(package, \"LibPath\") <- which.lib.loc\n .     ns <- loadNamespace(package, lib.loc)\n .     env <- attachNamespace(ns, pos = pos, deps, exclude, include.only)\n . }, error = function(e) {\n .     P <- if (!is.null(cc <- conditionCall(e))) \n .         paste(\" in\", deparse(cc)[1L])\n .     else \"\"\n .     msg <- gettextf(\"package or namespace load failed for %s%s:\\n %s\", \n .         sQuote(package), P, conditionMessage(e))\n .     if (logical.return) \n .         message(paste(\"Error:\", msg), domain = NA)\n .     else stop(msg, call. = FALSE, domain = NA)\n . })",
      "3. tryCatchList(expr, classes, parentenv, handlers)",
      "4. tryCatchOne(expr, names, parentenv, handlers[[1L]])",
      "5. value[[3L]](cond)",
      "6. stop(msg, call. = FALSE, domain = NA)"
     ]
    }
   ],
   "source": [
    "library(mlr)\n",
    "summarizeColumns(telecom)"
   ]
  },
  {
   "cell_type": "markdown",
   "metadata": {},
   "source": [
    "6. Revisar graficamente el porcentaje de nulos"
   ]
  },
  {
   "cell_type": "code",
   "execution_count": 62,
   "metadata": {},
   "outputs": [
    {
     "name": "stdout",
     "output_type": "stream",
     "text": [
      "\n",
      "  There is a binary version available but the source version is later:\n",
      "    binary source needs_compilation\n",
      "VIM  5.1.1  6.1.1              TRUE\n",
      "\n",
      "  Binaries will be installed\n",
      "package 'VIM' successfully unpacked and MD5 sums checked\n"
     ]
    },
    {
     "name": "stderr",
     "output_type": "stream",
     "text": [
      "Warning message:\n",
      "\"cannot remove prior installation of package 'VIM'\"Warning message in file.copy(savedcopy, lib, recursive = TRUE):\n",
      "\"problema al copiar D:\\Anaconda\\Lib\\R\\library\\00LOCK\\VIM\\libs\\x64\\VIM.dll  a D:\\Anaconda\\Lib\\R\\library\\VIM\\libs\\x64\\VIM.dll: Permission denied\"Warning message:\n",
      "\"restored 'VIM'\""
     ]
    },
    {
     "name": "stdout",
     "output_type": "stream",
     "text": [
      "\n",
      "The downloaded binary packages are in\n",
      "\tC:\\Users\\51956\\AppData\\Local\\Temp\\RtmpQxCsrV\\downloaded_packages\n"
     ]
    }
   ],
   "source": [
    "install.packages('VIM',repo='http://cran.fiocruz.br/')"
   ]
  },
  {
   "cell_type": "code",
   "execution_count": 73,
   "metadata": {},
   "outputs": [
    {
     "name": "stderr",
     "output_type": "stream",
     "text": [
      "Warning message:\n",
      "\"package 'VIM' was built under R version 3.6.3\"VIM is ready to use. \n",
      " Since version 4.0.0 the GUI is in its own package VIMGUI.\n",
      "\n",
      "          Please use the package to use the new (and old) GUI.\n",
      "\n",
      "Suggestions and bug-reports can be submitted at: https://github.com/alexkowa/VIM/issues\n",
      "Warning message in FUN(X[[i]], ...):\n",
      "\"reiniciar evaluación premisa interrumpida\"Warning message in FUN(X[[i]], ...):\n",
      "\"unknown type in R_decompress3\""
     ]
    },
    {
     "ename": "ERROR",
     "evalue": "Error in FUN(X[[i]], ...): lazy-load database 'D:/Anaconda/lib/R/library/datasets/data/Rdata.rdb' is corrupt\n",
     "output_type": "error",
     "traceback": [
      "Error in FUN(X[[i]], ...): lazy-load database 'D:/Anaconda/lib/R/library/datasets/data/Rdata.rdb' is corrupt\nTraceback:\n",
      "1. library(VIM)",
      "2. checkConflicts(package, pkgname, pkgpath, nogenerics, ns)",
      "3. same.isFn(i)",
      "4. vapply(same, exists, NA, where = where, mode = \"function\", inherits = FALSE)",
      "5. FUN(X[[i]], ...)"
     ]
    }
   ],
   "source": [
    "library(VIM)\n",
    "aggr(telecom,numbers=TRUE, plot = T)"
   ]
  },
  {
   "cell_type": "markdown",
   "metadata": {},
   "source": [
    "7. Visualizar la tabla y frecuencia con formato SAS"
   ]
  },
  {
   "cell_type": "code",
   "execution_count": 2,
   "metadata": {},
   "outputs": [
    {
     "name": "stdout",
     "output_type": "stream",
     "text": [
      "\n",
      "  There is a binary version available but the source version is later:\n",
      "        binary   source needs_compilation\n",
      "gmodels 2.18.1 2.18.1.1             FALSE\n",
      "\n"
     ]
    },
    {
     "name": "stderr",
     "output_type": "stream",
     "text": [
      "installing the source package 'gmodels'\n",
      "\n"
     ]
    },
    {
     "name": "stdout",
     "output_type": "stream",
     "text": [
      "\n",
      "  There is a binary version available but the source version is later:\n",
      "      binary   source needs_compilation\n",
      "gdata 2.18.0 2.18.0.1             FALSE\n",
      "\n"
     ]
    },
    {
     "name": "stderr",
     "output_type": "stream",
     "text": [
      "installing the source package 'gdata'\n",
      "\n"
     ]
    }
   ],
   "source": [
    "install.packages('gmodels',repo='http://cran.fiocruz.br/')\n",
    "install.packages('gdata',repo='http://cran.fiocruz.br/')"
   ]
  },
  {
   "cell_type": "code",
   "execution_count": 54,
   "metadata": {},
   "outputs": [
    {
     "name": "stderr",
     "output_type": "stream",
     "text": [
      "Warning message:\n",
      "\"package 'gmodels' was built under R version 3.6.3\"Warning message:\n",
      "\"package 'gdata' was built under R version 3.6.3\"gdata: Unable to locate valid perl interpreter\n",
      "gdata: \n",
      "gdata: read.xls() will be unable to read Excel XLS and XLSX files\n",
      "gdata: unless the 'perl=' argument is used to specify the location of a\n",
      "gdata: valid perl intrpreter.\n",
      "gdata: \n",
      "gdata: (To avoid display of this message in the future, please ensure\n",
      "gdata: perl is installed and available on the executable search path.)\n",
      "gdata: Unable to load perl libaries needed by read.xls()\n",
      "gdata: to support 'XLX' (Excel 97-2004) files.\n",
      "\n",
      "gdata: Unable to load perl libaries needed by read.xls()\n",
      "gdata: to support 'XLSX' (Excel 2007+) files.\n",
      "\n",
      "gdata: Run the function 'installXLSXsupport()'\n",
      "gdata: to automatically download and install the perl\n",
      "gdata: libaries needed to support Excel XLS and XLSX formats.\n",
      "\n",
      "Attaching package: 'gdata'\n",
      "\n",
      "The following objects are masked from 'package:data.table':\n",
      "\n",
      "    first, last\n",
      "\n",
      "The following object is masked from 'package:stats':\n",
      "\n",
      "    nobs\n",
      "\n",
      "The following object is masked from 'package:utils':\n",
      "\n",
      "    object.size\n",
      "\n",
      "The following object is masked from 'package:base':\n",
      "\n",
      "    startsWith\n",
      "\n"
     ]
    },
    {
     "name": "stdout",
     "output_type": "stream",
     "text": [
      "\n",
      " \n",
      "   Cell Contents\n",
      "|-------------------------|\n",
      "|                       N |\n",
      "|         N / Table Total |\n",
      "|-------------------------|\n",
      "\n",
      " \n",
      "Total Observations in Table:  120 \n",
      "\n",
      " \n",
      "          |  Femenino | Masculino | \n",
      "          |-----------|-----------|\n",
      "          |        54 |        66 | \n",
      "          |     0.450 |     0.550 | \n",
      "          |-----------|-----------|\n",
      "\n",
      "\n",
      "\n",
      " \n"
     ]
    }
   ],
   "source": [
    "library(gmodels)\n",
    "library(gdata)\n",
    "CrossTable(telecom$Género, format=\"SAS\")"
   ]
  },
  {
   "cell_type": "markdown",
   "metadata": {},
   "source": [
    "8. Visualizar la tabla y frecuencia con formato SPSS"
   ]
  },
  {
   "cell_type": "code",
   "execution_count": 55,
   "metadata": {},
   "outputs": [
    {
     "name": "stdout",
     "output_type": "stream",
     "text": [
      "\n",
      "   Cell Contents\n",
      "|-------------------------|\n",
      "|                   Count |\n",
      "|             Row Percent |\n",
      "|-------------------------|\n",
      "\n",
      "Total Observations in Table:  120 \n",
      "\n",
      "          |  Femenino  | Masculino  | \n",
      "          |-----------|-----------|\n",
      "          |       54  |       66  | \n",
      "          |   45.000% |   55.000% | \n",
      "          |-----------|-----------|\n",
      "\n",
      " \n"
     ]
    }
   ],
   "source": [
    "CrossTable(telecom$Género, format=\"SPSS\")"
   ]
  },
  {
   "cell_type": "markdown",
   "metadata": {},
   "source": [
    "9. Visualizar gráficos de resumen de las variables: gráfico de barras"
   ]
  },
  {
   "cell_type": "code",
   "execution_count": 25,
   "metadata": {},
   "outputs": [
    {
     "data": {
      "image/png": "[encoded data removed]",
      "text/plain": [
       "Plot with title \"Distribución del género de los clientes\""
      ]
     },
     "metadata": {},
     "output_type": "display_data"
    }
   ],
   "source": [
    "frec <- table(telecom$Género)\n",
    "barplot(frec, main=\"Distribución del género de los clientes\", xlab=\"Género\", ylab=\"Cantidad de Clientes\")"
   ]
  },
  {
   "cell_type": "markdown",
   "metadata": {},
   "source": [
    "10. Visualizar gráficos de resumen de las variables: pie"
   ]
  },
  {
   "cell_type": "code",
   "execution_count": 26,
   "metadata": {},
   "outputs": [
    {
     "data": {
      "image/png": "[encoded data removed]",
      "text/plain": [
       "Plot with title \"Distribución del género de los clientes\""
      ]
     },
     "metadata": {},
     "output_type": "display_data"
    }
   ],
   "source": [
    "pie(frec, main=\"Distribución del género de los clientes\", xlab=\"Género\")"
   ]
  },
  {
   "cell_type": "markdown",
   "metadata": {},
   "source": [
    "11. Visualizar gráficos de resumen de las variables: pie 3D"
   ]
  },
  {
   "cell_type": "code",
   "execution_count": 56,
   "metadata": {},
   "outputs": [
    {
     "name": "stdout",
     "output_type": "stream",
     "text": [
      "\n",
      "  There is a binary version available but the source version is later:\n",
      "        binary source needs_compilation\n",
      "plotrix  3.8-1  3.8-2             FALSE\n",
      "\n"
     ]
    },
    {
     "name": "stderr",
     "output_type": "stream",
     "text": [
      "installing the source package 'plotrix'\n",
      "\n"
     ]
    }
   ],
   "source": [
    "install.packages('plotrix',repo='http://cran.fiocruz.br/')"
   ]
  },
  {
   "cell_type": "code",
   "execution_count": 57,
   "metadata": {},
   "outputs": [
    {
     "name": "stderr",
     "output_type": "stream",
     "text": [
      "Warning message:\n",
      "\"package 'plotrix' was built under R version 3.6.3\""
     ]
    },
    {
     "data": {
      "image/png": "[encoded data removed]",
      "text/plain": [
       "Plot with title \"Distribución de la Edad de los Clientes\""
      ]
     },
     "metadata": {},
     "output_type": "display_data"
    }
   ],
   "source": [
    "library(plotrix)\n",
    "lbls1 <- paste(names(table(telecom$Género)), \"\\n\", prop.table(table(telecom$Género))*100,\"%\", sep=\"\")\n",
    "pie3D(table(telecom$Género), labels = lbls1,explode=0.15, main=\"Distribución de la Edad de los Clientes\")"
   ]
  },
  {
   "cell_type": "markdown",
   "metadata": {},
   "source": [
    "12. Visualizar gráficos de resumen de las variables: grafico de puntos"
   ]
  },
  {
   "cell_type": "code",
   "execution_count": 58,
   "metadata": {},
   "outputs": [
    {
     "name": "stderr",
     "output_type": "stream",
     "text": [
      "Warning message in dotchart(table(telecom$Género), cex = 0.7, main = \"Distribución de la Edad de los Clientes\", :\n",
      "\"'x' is neither a vector nor a matrix: using as.numeric(x)\""
     ]
    },
    {
     "data": {
      "image/png": "[encoded data removed]",
      "text/plain": [
       "Plot with title \"Distribución de la Edad de los Clientes\""
      ]
     },
     "metadata": {},
     "output_type": "display_data"
    }
   ],
   "source": [
    "dotchart(table(telecom $Género), cex=.7, main=\"Distribución de la Edad de los Clientes\", xlab=\"# de Clientes\")"
   ]
  },
  {
   "cell_type": "code",
   "execution_count": null,
   "metadata": {},
   "outputs": [],
   "source": [
    "13. Generar tablas dinamicas o de contingencia"
   ]
  },
  {
   "cell_type": "code",
   "execution_count": 32,
   "metadata": {},
   "outputs": [
    {
     "data": {
      "text/plain": [
       "           \n",
       "            Femenino Masculino\n",
       "  Bueno            9        14\n",
       "  Excelente        9        10\n",
       "  Muy Bueno        8        11\n",
       "  Pésimo          21        23\n",
       "  Regular          7         8"
      ]
     },
     "metadata": {},
     "output_type": "display_data"
    }
   ],
   "source": [
    "tablacruzada<-table(telecom$Opinión, telecom$Género)\n",
    "tablacruzada"
   ]
  },
  {
   "cell_type": "code",
   "execution_count": 59,
   "metadata": {},
   "outputs": [
    {
     "name": "stdout",
     "output_type": "stream",
     "text": [
      "\n",
      "   Cell Contents\n",
      "|-------------------------|\n",
      "|                   Count |\n",
      "| Chi-square contribution |\n",
      "|             Row Percent |\n",
      "|          Column Percent |\n",
      "|           Total Percent |\n",
      "|-------------------------|\n",
      "\n",
      "Total Observations in Table:  120 \n",
      "\n",
      "                | telecom$Género \n",
      "telecom$Opinión |  Femenino  | Masculino  | Row Total | \n",
      "----------------|-----------|-----------|-----------|\n",
      "          Bueno |        9  |       14  |       23  | \n",
      "                |    0.176  |    0.144  |           | \n",
      "                |   39.130% |   60.870% |   19.167% | \n",
      "                |   16.667% |   21.212% |           | \n",
      "                |    7.500% |   11.667% |           | \n",
      "----------------|-----------|-----------|-----------|\n",
      "      Excelente |        9  |       10  |       19  | \n",
      "                |    0.024  |    0.019  |           | \n",
      "                |   47.368% |   52.632% |   15.833% | \n",
      "                |   16.667% |   15.152% |           | \n",
      "                |    7.500% |    8.333% |           | \n",
      "----------------|-----------|-----------|-----------|\n",
      "      Muy Bueno |        8  |       11  |       19  | \n",
      "                |    0.035  |    0.029  |           | \n",
      "                |   42.105% |   57.895% |   15.833% | \n",
      "                |   14.815% |   16.667% |           | \n",
      "                |    6.667% |    9.167% |           | \n",
      "----------------|-----------|-----------|-----------|\n",
      "         Pésimo |       21  |       23  |       44  | \n",
      "                |    0.073  |    0.060  |           | \n",
      "                |   47.727% |   52.273% |   36.667% | \n",
      "                |   38.889% |   34.848% |           | \n",
      "                |   17.500% |   19.167% |           | \n",
      "----------------|-----------|-----------|-----------|\n",
      "        Regular |        7  |        8  |       15  | \n",
      "                |    0.009  |    0.008  |           | \n",
      "                |   46.667% |   53.333% |   12.500% | \n",
      "                |   12.963% |   12.121% |           | \n",
      "                |    5.833% |    6.667% |           | \n",
      "----------------|-----------|-----------|-----------|\n",
      "   Column Total |       54  |       66  |      120  | \n",
      "                |   45.000% |   55.000% |           | \n",
      "----------------|-----------|-----------|-----------|\n",
      "\n",
      " \n"
     ]
    }
   ],
   "source": [
    "CrossTable(telecom$Opinión, telecom$Género, format=\"SPSS\")"
   ]
  },
  {
   "cell_type": "markdown",
   "metadata": {},
   "source": [
    "14. Representación de variables cuantitativas: Edad"
   ]
  },
  {
   "cell_type": "code",
   "execution_count": 63,
   "metadata": {},
   "outputs": [
    {
     "name": "stderr",
     "output_type": "stream",
     "text": [
      "also installing the dependencies 'glue', 'fontawesome', 'htmltools', 'bslib', 'cli', 'shiny', 'styler', 'questionr', 'klaR'\n",
      "\n"
     ]
    },
    {
     "name": "stdout",
     "output_type": "stream",
     "text": [
      "\n",
      "  There are binary versions available but the source versions are later:\n",
      "             binary source needs_compilation\n",
      "glue          1.4.2  1.6.2              TRUE\n",
      "fontawesome   0.2.1  0.2.2             FALSE\n",
      "htmltools   0.5.1.1  0.5.2              TRUE\n",
      "bslib         0.2.4  0.3.1             FALSE\n",
      "cli           2.5.0  3.3.0              TRUE\n",
      "shiny         1.6.0  1.7.1             FALSE\n",
      "styler        1.4.1  1.7.0             FALSE\n",
      "questionr     0.7.3  0.7.7             FALSE\n",
      "klaR         0.6-15  1.7-1             FALSE\n",
      "agricolae     1.3-3  1.3-5             FALSE\n",
      "\n",
      "  Binaries will be installed\n",
      "package 'glue' successfully unpacked and MD5 sums checked\n",
      "package 'htmltools' successfully unpacked and MD5 sums checked\n"
     ]
    },
    {
     "name": "stderr",
     "output_type": "stream",
     "text": [
      "Warning message:\n",
      "\"cannot remove prior installation of package 'htmltools'\"Warning message in file.copy(savedcopy, lib, recursive = TRUE):\n",
      "\"problema al copiar D:\\Anaconda\\Lib\\R\\library\\00LOCK\\htmltools\\libs\\x64\\htmltools.dll  a D:\\Anaconda\\Lib\\R\\library\\htmltools\\libs\\x64\\htmltools.dll: Permission denied\"Warning message:\n",
      "\"restored 'htmltools'\""
     ]
    },
    {
     "name": "stdout",
     "output_type": "stream",
     "text": [
      "package 'cli' successfully unpacked and MD5 sums checked\n",
      "\n",
      "The downloaded binary packages are in\n",
      "\tC:\\Users\\51956\\AppData\\Local\\Temp\\RtmpQxCsrV\\downloaded_packages\n"
     ]
    },
    {
     "name": "stderr",
     "output_type": "stream",
     "text": [
      "installing the source packages 'fontawesome', 'bslib', 'shiny', 'styler', 'questionr', 'klaR', 'agricolae'\n",
      "\n",
      "Warning message in install.packages(\"agricolae\", repo = \"http://cran.fiocruz.br/\"):\n",
      "\"installation of package 'fontawesome' had non-zero exit status\"Warning message in install.packages(\"agricolae\", repo = \"http://cran.fiocruz.br/\"):\n",
      "\"installation of package 'bslib' had non-zero exit status\"Warning message in install.packages(\"agricolae\", repo = \"http://cran.fiocruz.br/\"):\n",
      "\"installation of package 'shiny' had non-zero exit status\"Warning message in install.packages(\"agricolae\", repo = \"http://cran.fiocruz.br/\"):\n",
      "\"installation of package 'questionr' had non-zero exit status\"Warning message in install.packages(\"agricolae\", repo = \"http://cran.fiocruz.br/\"):\n",
      "\"installation of package 'klaR' had non-zero exit status\"Warning message in install.packages(\"agricolae\", repo = \"http://cran.fiocruz.br/\"):\n",
      "\"installation of package 'agricolae' had non-zero exit status\""
     ]
    }
   ],
   "source": [
    "install.packages('agricolae',repo='http://cran.fiocruz.br/')"
   ]
  },
  {
   "cell_type": "code",
   "execution_count": 65,
   "metadata": {},
   "outputs": [
    {
     "ename": "ERROR",
     "evalue": "Error in library(agricolae): there is no package called 'agricolae'\n",
     "output_type": "error",
     "traceback": [
      "Error in library(agricolae): there is no package called 'agricolae'\nTraceback:\n",
      "1. library(agricolae)"
     ]
    }
   ],
   "source": [
    "library(agricolae)\n",
    "(table.freq(hist(telecom$Edad,breaks = \"Sturges\")))"
   ]
  },
  {
   "cell_type": "markdown",
   "metadata": {},
   "source": [
    "15. Representación de variables cuantitativas: Tiempo de llamadas en Enero"
   ]
  },
  {
   "cell_type": "code",
   "execution_count": 66,
   "metadata": {},
   "outputs": [
    {
     "ename": "ERROR",
     "evalue": "Error in table.freq(hist(telecom$Tiempo.enero, breaks = \"Scott\")): no se pudo encontrar la función \"table.freq\"\n",
     "output_type": "error",
     "traceback": [
      "Error in table.freq(hist(telecom$Tiempo.enero, breaks = \"Scott\")): no se pudo encontrar la función \"table.freq\"\nTraceback:\n"
     ]
    }
   ],
   "source": [
    "(table.freq(hist(telecom$Tiempo.enero,breaks = \"Scott\")))"
   ]
  },
  {
   "cell_type": "markdown",
   "metadata": {},
   "source": [
    "16. Representación de variables cuantitativas: Monto"
   ]
  },
  {
   "cell_type": "code",
   "execution_count": 36,
   "metadata": {},
   "outputs": [
    {
     "ename": "ERROR",
     "evalue": "Error in table.freq(graph.freq(telecom$Monto, plot = FALSE)): no se pudo encontrar la función \"table.freq\"\n",
     "output_type": "error",
     "traceback": [
      "Error in table.freq(graph.freq(telecom$Monto, plot = FALSE)): no se pudo encontrar la función \"table.freq\"\nTraceback:\n"
     ]
    }
   ],
   "source": [
    "(table.freq(graph.freq(telecom$Monto,plot=FALSE)))"
   ]
  },
  {
   "cell_type": "markdown",
   "metadata": {},
   "source": [
    "17. Representación de variables cuantitativas: Tiempo de llamadas en febrero"
   ]
  },
  {
   "cell_type": "code",
   "execution_count": 37,
   "metadata": {},
   "outputs": [
    {
     "ename": "ERROR",
     "evalue": "Error in table.freq(hist(telecom$Tiempo.febrero, breaks = \"FD\")): no se pudo encontrar la función \"table.freq\"\n",
     "output_type": "error",
     "traceback": [
      "Error in table.freq(hist(telecom$Tiempo.febrero, breaks = \"FD\")): no se pudo encontrar la función \"table.freq\"\nTraceback:\n"
     ]
    }
   ],
   "source": [
    "(table.freq(hist(telecom$Tiempo.febrero,breaks = \"FD\")))"
   ]
  },
  {
   "cell_type": "markdown",
   "metadata": {},
   "source": [
    "18. Representación de variables cuantitativas de forma gráfica: Histograma"
   ]
  },
  {
   "cell_type": "code",
   "execution_count": 38,
   "metadata": {},
   "outputs": [
    {
     "data": {
      "image/png": "[encoded data removed]",
      "text/plain": [
       "Plot with title \"Histogram of telecom$Tiempo.enero\""
      ]
     },
     "metadata": {},
     "output_type": "display_data"
    }
   ],
   "source": [
    "hist(telecom$Tiempo.enero, col = 2)"
   ]
  },
  {
   "cell_type": "markdown",
   "metadata": {},
   "source": [
    "19. Representación de variables cuantitativas de forma gráfica: Histograma y linea de distribución"
   ]
  },
  {
   "cell_type": "code",
   "execution_count": 39,
   "metadata": {},
   "outputs": [
    {
     "ename": "ERROR",
     "evalue": "Error in polygon.freq(histograma, frequency = 1, col = \"red\"): no se pudo encontrar la función \"polygon.freq\"\n",
     "output_type": "error",
     "traceback": [
      "Error in polygon.freq(histograma, frequency = 1, col = \"red\"): no se pudo encontrar la función \"polygon.freq\"\nTraceback:\n"
     ]
    },
    {
     "data": {
      "image/png": "[encoded data removed]",
      "text/plain": [
       "Plot with title \"Histogram of telecom$Tiempo.enero\""
      ]
     },
     "metadata": {},
     "output_type": "display_data"
    }
   ],
   "source": [
    "histograma<-hist(telecom$Tiempo.enero,breaks = \"Sturges\", xlab=\"Edad\", ylab=\"Número de clientes\",)\n",
    "polygon.freq(histograma,frequency=1,col=\"red\")"
   ]
  },
  {
   "cell_type": "markdown",
   "metadata": {},
   "source": [
    "20. Representación de variables cuantitativas de forma gráfica: linea de distribución"
   ]
  },
  {
   "cell_type": "code",
   "execution_count": 40,
   "metadata": {},
   "outputs": [
    {
     "ename": "ERROR",
     "evalue": "Error in polygon.freq(histograma, frequency = 1, col = \"red\"): no se pudo encontrar la función \"polygon.freq\"\n",
     "output_type": "error",
     "traceback": [
      "Error in polygon.freq(histograma, frequency = 1, col = \"red\"): no se pudo encontrar la función \"polygon.freq\"\nTraceback:\n"
     ]
    },
    {
     "data": {
      "image/png": "[encoded data removed]",
      "text/plain": [
       "Plot with title \"Histogram of telecom$Tiempo.enero\""
      ]
     },
     "metadata": {},
     "output_type": "display_data"
    }
   ],
   "source": [
    "histograma1<-hist(telecom$Tiempo.enero,border=FALSE)\n",
    "polygon.freq(histograma,frequency=1,col=\"red\")"
   ]
  },
  {
   "cell_type": "markdown",
   "metadata": {},
   "source": [
    "21. Representación de variables cuantitativas de forma gráfica: Comparativa de Histogramas"
   ]
  },
  {
   "cell_type": "code",
   "execution_count": 41,
   "metadata": {},
   "outputs": [
    {
     "data": {
      "image/png": "[encoded data removed]",
      "text/plain": [
       "Plot with title \"Histogram of telecom$Tiempo.enero[telecom$Género == \"Femenino\"]\""
      ]
     },
     "metadata": {},
     "output_type": "display_data"
    }
   ],
   "source": [
    "par(mfrow=c(1,2))\n",
    "hist(telecom$Tiempo.enero[telecom$Género==\"Masculino\"],ylim=c(0,20))\n",
    "hist(telecom$Tiempo.enero[telecom$Género==\"Femenino\"],ylim=c(0,20))"
   ]
  },
  {
   "cell_type": "markdown",
   "metadata": {},
   "source": [
    "22. Representación de variables cuantitativas de forma gráfica: Gráfico de Caja"
   ]
  },
  {
   "cell_type": "code",
   "execution_count": 42,
   "metadata": {},
   "outputs": [
    {
     "data": {
      "image/png": "[encoded data removed]",
      "text/plain": [
       "plot without title"
      ]
     },
     "metadata": {},
     "output_type": "display_data"
    }
   ],
   "source": [
    "boxplot(telecom$Tiempo.enero, col = 3)"
   ]
  },
  {
   "cell_type": "code",
   "execution_count": null,
   "metadata": {},
   "outputs": [],
   "source": []
  }
 ],
 "metadata": {
  "kernelspec": {
   "display_name": "R",
   "language": "R",
   "name": "ir"
  },
  "language_info": {
   "codemirror_mode": "r",
   "file_extension": ".r",
   "mimetype": "text/x-r-source",
   "name": "R",
   "pygments_lexer": "r",
   "version": "3.6.3"
  }
 },
 "nbformat": 4,
 "nbformat_minor": 2
}
